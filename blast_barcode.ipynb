{
 "cells": [
  {
   "cell_type": "markdown",
   "metadata": {},
   "source": [
    "### 500697 Genetic Analysis\n",
    "# Using blast for DNA barcode analysis\n",
    "\n",
    "### Dr Dave Lunt\n",
    "d.h.lunt@hull.ac.uk\n"
   ]
  },
  {
   "cell_type": "markdown",
   "metadata": {},
   "source": [
    "### In the cell below please double click then type your name and student ID"
   ]
  },
  {
   "cell_type": "markdown",
   "metadata": {},
   "source": [
    "Student:"
   ]
  },
  {
   "cell_type": "markdown",
   "metadata": {},
   "source": [
    "Although we encourage discussion and some forms of working together **you will each need to complete a notebook** such as this. You will need to use the `File` menu above to `Download As` PDF at the *end* of this practical class. You will then upload it to Canvas as your assessment. Please make sure that all your work is entered in this workbook."
   ]
  },
  {
   "cell_type": "markdown",
   "metadata": {},
   "source": [
    "## 0. General Introduction\n",
    "In this practical class you will be introduced to Bioinformatics, the computational study of large scale DNA or amino acid data. \n",
    "\n",
    "Bioinformatics is a truly central discipline in all of biology, scientists with bioinformatics skills are highly sought after and the employment opportunities are superb.\n",
    "\n",
    "**DON’T PANIC! YOU DO NOT NEED COMPUTATIONAL SKILLS TO CARRY OUT THIS ASSESSMENT. EVERYTHING YOU NEED TO KNOW YOU CAN LEARN IN THIS CLASS**\n",
    "\n",
    "It is essential however that you engage with the exercises, reading them carefully, trying for yourself, and asking questions of your lab partners and the demonstrators.\n",
    "\n",
    "We will introduce you to two key areas in bioinformatics\n",
    "1. using the unix command line; these are essential skills required for bioinformaatic investigations\n",
    "2. `blast` searching a DNA database;  `blast` search is the most used of all biological software\n",
    "\n",
    "The goals are that you will have the skills to begin a bioinformatics investigation, and have used the most important software tool in biology - `blast`"
   ]
  },
  {
   "cell_type": "markdown",
   "metadata": {},
   "source": [
    "## Learning Outcomes\n",
    "At the end of this class you should:\n",
    "- Understand the utility of the command line\n",
    "- Be able to navigate files and directories from the command line\n",
    "- Perform `grep` searches on very large files\n",
    "- Be able to perform a `blast` search from the command line and gain biological insight"
   ]
  },
  {
   "cell_type": "code",
   "execution_count": null,
   "metadata": {},
   "outputs": [],
   "source": []
  },
  {
   "cell_type": "code",
   "execution_count": null,
   "metadata": {},
   "outputs": [],
   "source": []
  },
  {
   "cell_type": "markdown",
   "metadata": {},
   "source": [
    "# 1. Introduction to the command line\n",
    "Below we will give only a very simple overview. The best way to learn the command line is to Google search for instructions and then try it yourself, experimenting as much as you can. We have also given links to other teaching resources at the end.\n",
    "\n",
    "Here we have embedded the unix command line into a Jupyter notebook so that you have the manual and the exercises together. A normal terminal would be a seperate window (you used one for the git clone command), but otherwise it is the same. In the *instructions* below we denote commands typed at the terminal with a `$` sign, whereas the output, the info returned by the terminal, has no dollar sign.\n",
    "```\n",
    "$ a typed command\n",
    "output output output\n",
    "```\n",
    "\n",
    "The *actual* terminal here are the grey cells (boxes) prefixed by `In [ ]:`  \n",
    "Here is one:"
   ]
  },
  {
   "cell_type": "code",
   "execution_count": 1,
   "metadata": {},
   "outputs": [
    {
     "name": "stdout",
     "output_type": "stream",
     "text": [
      "LICENSE             README.md           blast_barcode.ipynb\n"
     ]
    }
   ],
   "source": []
  },
  {
   "cell_type": "markdown",
   "metadata": {},
   "source": [
    "You can run commands in a terminal cell by clicking in it and then Shift-Enter. Else you click the >|Run button in the menu bar. Try it below"
   ]
  },
  {
   "cell_type": "code",
   "execution_count": null,
   "metadata": {},
   "outputs": [],
   "source": [
    "echo 'Hello World!'"
   ]
  },
  {
   "cell_type": "markdown",
   "metadata": {},
   "source": [
    "You should see that the output `'Hello World!'` has been printed direcly below the cell (we'll introduce the `echo` command later)"
   ]
  },
  {
   "cell_type": "markdown",
   "metadata": {},
   "source": [
    "## 1.1 Navigating the file system\n",
    "\n",
    "The first thing to do is to learn the basics of moving between places on your computer, checking where you are, checking what files are present and having a quick look at them. Some of the terminology is perhaps slightly new (‘directories’ rather than ‘folders’) but using the right words will mean you are speaking the same language as everyone else and make your life easier when Googling for solutions.\n",
    "\n",
    "**As the navigation commands are introduced below try them on your own system**\n",
    "\n",
    "### 1.1.1 Checking where you are (`pwd`), changing directories (`cd`) and listing contents (`ls`)\n",
    "At the command line you need to know “where you are” i.e. which directory (folder) you have open and are working in. Question: If you issue the command to ‘list all files’ which files will be listed? Answer: Those in the directory where you are currently working, called the working directory. The command to find out where you are is `pwd` short for ‘print working directory’. NB: ‘print’ when working at the command line means ‘display on the screen’ rather than ‘write this to a piece of paper’. \n",
    "\n",
    "Type the command to print working directory `pwd` below, and hit Shift-Enter to run the command.\n"
   ]
  },
  {
   "cell_type": "code",
   "execution_count": null,
   "metadata": {},
   "outputs": [],
   "source": []
  },
  {
   "cell_type": "markdown",
   "metadata": {},
   "source": [
    "You should see something like this:\n",
    "\n",
    "```\n",
    "$ pwd\n",
    "/home/bs/username/intro_unix_and_blast\n",
    "```"
   ]
  },
  {
   "cell_type": "markdown",
   "metadata": {},
   "source": [
    "**Tip: if you want to try something and there isn't an empty terminal cell, use the menu bar to Insert Cell**\n",
    "\n",
    "Try inserting a cell below and check your working directory again"
   ]
  },
  {
   "cell_type": "markdown",
   "metadata": {},
   "source": [
    "It would be useful now to know what folders and files are present in this location"
   ]
  },
  {
   "cell_type": "markdown",
   "metadata": {},
   "source": [
    "### Listing the contents of a directory with `ls`\n",
    "\n",
    "A very common thing you will want to do is to **display the contents of a directory**, i.e. list all the files. \n",
    "\n",
    "You can list the files (and directories) in your working directory using the `ls` command. \n",
    "\n",
    "**Task: explore to contents of the folders provided for you. Navigate to each and look what is there using the `ls` command.**"
   ]
  },
  {
   "cell_type": "markdown",
   "metadata": {},
   "source": [
    "But maybe that isn’t where you want to be, in which case you need to `‘change directory’` and the command for that is `cd`\n",
    "\n",
    "```\n",
    "$ cd data\n",
    "$ cd my_sequences\n",
    "$ pwd\n",
    "\n",
    "/home/bs/username/intro_unix_and_blast/data/my_sequences\n",
    "```"
   ]
  },
  {
   "cell_type": "markdown",
   "metadata": {},
   "source": [
    "**Explanation:** Spaces in file and directory names cause difficulties as spaces are treated as the end of a file name. When looking for ‘my file’ it complains that it can’t find ‘my’. \n",
    "```\n",
    "$ cd my sequences\n",
    "-bash: cd: my: No such file or directory\n",
    "```\n",
    "\n",
    "Although this can be got around by using quotes ‘`my file`’ it is better to name files replacing spaces with underscores (e.g. `my_file`), hyphens (e.g. `my-file`), or concatenating the words (e.g. `myfile`)."
   ]
  },
  {
   "cell_type": "markdown",
   "metadata": {},
   "source": [
    "**Try navigating for yourself down to the `my_sequences` folder as outlined above**"
   ]
  },
  {
   "cell_type": "code",
   "execution_count": null,
   "metadata": {},
   "outputs": [],
   "source": []
  },
  {
   "cell_type": "code",
   "execution_count": null,
   "metadata": {},
   "outputs": [],
   "source": []
  },
  {
   "cell_type": "markdown",
   "metadata": {},
   "source": [
    "You can see that the `/` symbol denotes levels of directories, so that the ‘my_sequences’ directory is contained within the ‘data’ directory which is within the user's 'home' directory, and ultimately in the system’s ‘home’ directory. \n",
    "\n",
    "These **file paths** can sometimes be long but they are always explicit, which is a very good thing for reproducibility. There is no excuse for failing to remember where the data was stored for your analysis, here it is written out, and in the real world you will want to record this as part of your experiment. \n",
    "\n",
    "You can go up one level (to 'data') by using double dots (ensure there is always a space between the `cd` command and the directory you wish to go to).\n",
    "```\n",
    "$ cd ..\n",
    "$ pwd\n",
    "\n",
    "/home/bs/userename/intro_unix_and_blast/data\n",
    "```\n",
    "\n",
    "**Try it for yourself** (remember to always try new commands for yourself, it is an important part of your learning, don't wait for my typed reminders)"
   ]
  },
  {
   "cell_type": "code",
   "execution_count": 6,
   "metadata": {},
   "outputs": [],
   "source": []
  },
  {
   "cell_type": "code",
   "execution_count": null,
   "metadata": {},
   "outputs": [],
   "source": []
  },
  {
   "cell_type": "markdown",
   "metadata": {},
   "source": [
    "What happens if you use the `cd` command without telling the system where you would like to change directories to?  \n",
    "Try it. How can you find out which directory you are now in?\n",
    "```\n",
    "$ cd \n",
    "$ pwd \n",
    "/home/bs/username\n",
    "```\n",
    "\n",
    "Using `cd` command on its own returns you to your **user’s home directory**, in this case `/username` from wherever you are. NB it is **your** home directory, in my case called davelunt, and its nested within the directory called home by the computer where all users' directories are kept. **your home directory** is an important concept, this other home folder is the only difficult part, and can be ignored for the rest of today. In the example below *username* means your username, whatever it is.\n",
    "\n",
    "The tilde symbol (`~`) is shorthand for your home directory so `username/intro_unix_and_blast` and `~/intro_unix_and_blast` refer to the same directory, which saves a little typing. \n",
    "\n",
    "Another very useful shortcut is `cd -` (dash) which takes you to the previous directory that you were in. This is really useful when you need to swap between directories that are separated by several levels or that have long names.\n",
    "\n"
   ]
  },
  {
   "cell_type": "markdown",
   "metadata": {},
   "source": [
    "```\n",
    "$ cd ~/intro_unix_and_blast/data/my_sequences\n",
    "$ pwd\n",
    "/home/bs/username/intro_unix_and_blast/data/my_sequences\n",
    "$ cd\n",
    "$ pwd\n",
    "/home/bs/username\n",
    "$ cd -\n",
    "$ pwd\n",
    "/home/bs/username/intro_unix_and_blast/data/my_sequences\n",
    "$ cd -\n",
    "$ pwd\n",
    "/home/bs/username\n",
    "```\n",
    "\n",
    "Make sure that you are actually typing this out for yourself rather than just reading along. This **active learning** will really help it to stick in memory, and come back when you need it, a bit like developing muscle memory.\n"
   ]
  },
  {
   "cell_type": "markdown",
   "metadata": {},
   "source": [
    "### tab completion saves time and errors"
   ]
  },
  {
   "cell_type": "markdown",
   "metadata": {},
   "source": [
    "You are probably slightly annoyed now that you have to type in all these directory names, which are long and complex. If you make one typo it will result in an error. Real bioinformaticians make use of the tab key a lot. tab will suggest completions of your file path.\n",
    "\n",
    "If I am in the home directory and I type `$ cd intr<tab>` it will autocomplete to `$ cd intro_unix_and_blast`\n",
    "This saves a LOT of typing and prevents errors. Insert a cell below and try it now. Use the Insert menu above."
   ]
  },
  {
   "cell_type": "markdown",
   "metadata": {},
   "source": [
    "### Chaining commands together with a semicolon\n",
    "Above we were issuing commands one at a time; first `cd` then `pwd`. To chain commands together on the same line separate them with a semicolon ie `cd;pwd`\n",
    "\n",
    "Try the exercise from the line above again, but now using semicolons. You should only need 4 commands not 8.\n",
    "\n",
    "Are you tab completing the addresses?"
   ]
  },
  {
   "cell_type": "code",
   "execution_count": null,
   "metadata": {},
   "outputs": [],
   "source": []
  },
  {
   "cell_type": "markdown",
   "metadata": {},
   "source": [
    "### Quiz: Ways to return home\n",
    "There are 5 ways that you should now know to return to your home directory. Most people only remember 2 or 3, what can you do? Please work with someone nearby, tell a demonstrator, and we'll see who are the champions.\n"
   ]
  },
  {
   "cell_type": "markdown",
   "metadata": {},
   "source": [
    "### 1.1.3 Summary\n",
    "```\n",
    "pwd\tprint working directory, show where you are\n",
    "ls\tlist, show all the files in your current directory\n",
    "cd\tchange directory, move to another location\n",
    ";\tsemicolons can chain together commands on one line\n",
    "```\n",
    "\n",
    "Test yourself, can you write out a command using each of these?"
   ]
  },
  {
   "cell_type": "markdown",
   "metadata": {},
   "source": [
    "# 1.3 Editing, inspecting, and searching within text files"
   ]
  },
  {
   "cell_type": "markdown",
   "metadata": {},
   "source": [
    "## 1.3.1 Inspecting files\n",
    "Much of bioinformatics is the inspection and retrieval of information from text files. This data is the source of all subsequent analyses and we need to make sure it is the right data in the right format.\n",
    "\n",
    "If we  want to inspect a file we can display its contents using several unix programs:\n",
    "```\n",
    "cat  \tto print the whole file to the screen\n",
    "less \tto print the file to the screen a page at a time\n",
    "head \tto print the first few lines of the file on screen\n",
    "tail \tto print the last few lines of the file on screen\n",
    "```\n",
    "One of the problems with DNA sequence files is that they can be large - several hundred megabytes to a few gigabytes is not uncommon. Viewing these files can be difficult, as the files need to be loaded into memory, and can therefore take a great deal of time for the text editor to read from the disk. The `less`, `head` and `tail` commands are very efficient for viewing large files such as these. \n",
    "\n",
    "Remembering tab completion navigate to the directory `/data/my_sequences`. Tip; when navigating use `ls` to see what is available.\n",
    "\n",
    "Some of these files e.g. `C.09.F.fasta` are quite large (~30Mb), while the others are smaller. Only one of the commands above is inappropriate for large files all the others will be useful. If you have a problem don't panic, ask a demonstrator.\n",
    "\n",
    "If unsure about the size of a file `head` is a good way to have a look at it. If you want to know how big a file is you can display this with a version of the `ls` command, can you find out how?\n",
    "\n",
    "All the commands above will be very useful for basic bioinformatics work, they are key skills. "
   ]
  },
  {
   "cell_type": "markdown",
   "metadata": {},
   "source": [
    "How can you step through the file a screen at a time using `less`? Try Googling for the answer and demonstrate that it works."
   ]
  },
  {
   "cell_type": "code",
   "execution_count": null,
   "metadata": {},
   "outputs": [],
   "source": []
  },
  {
   "cell_type": "markdown",
   "metadata": {},
   "source": [
    "----\n",
    "## Assessment 1 - viewing files\n",
    "\n",
    "Navigate to the `/headers` directory.\n",
    "(Which commands should you use for big or small files and why?)\n",
    "\n",
    "In the 4 cells below use each of the following commands to view the file contents\n",
    "1. cat\n",
    "2. head\n",
    "3. tail\n",
    "4. less \n"
   ]
  },
  {
   "cell_type": "code",
   "execution_count": null,
   "metadata": {},
   "outputs": [],
   "source": []
  },
  {
   "cell_type": "code",
   "execution_count": null,
   "metadata": {},
   "outputs": [],
   "source": []
  },
  {
   "cell_type": "code",
   "execution_count": null,
   "metadata": {},
   "outputs": [],
   "source": []
  },
  {
   "cell_type": "code",
   "execution_count": null,
   "metadata": {},
   "outputs": [],
   "source": []
  },
  {
   "cell_type": "markdown",
   "metadata": {},
   "source": [
    "-----"
   ]
  },
  {
   "cell_type": "markdown",
   "metadata": {},
   "source": [
    "---- \n",
    "# 2 BLAST similarity searches\n",
    "In this second section we will investigate and use **blast** the most important software tool in biology."
   ]
  },
  {
   "cell_type": "markdown",
   "metadata": {},
   "source": [
    "## 2.1 What is BLAST and how does it work?\n",
    "**Task: In groups of 2-4 spend 5 minutes to research BLAST searches. How will you do this? What questions will you ask?  \n",
    "You will prepare yourself to contribute to a group discussions about blast searching.**"
   ]
  },
  {
   "cell_type": "markdown",
   "metadata": {},
   "source": [
    "## 2.2 The CFTR gene"
   ]
  },
  {
   "cell_type": "markdown",
   "metadata": {},
   "source": [
    "## Assessment 3; building a blast database and searching it\n",
    "To demonstrate your competency, follow the instructions to search a chromosome_7 blast database from the command line with the provided CFTR query sequence. The instructions are in the two sections below"
   ]
  },
  {
   "cell_type": "markdown",
   "metadata": {},
   "source": [
    "## 2.3 Building a BLAST database\n",
    "You have been provided with the seqeunce of human chromosome 7 in `GRCh38_chr7.fas`. Have a quick look at it to make sure it is what you expect."
   ]
  },
  {
   "cell_type": "code",
   "execution_count": null,
   "metadata": {},
   "outputs": [],
   "source": []
  },
  {
   "cell_type": "markdown",
   "metadata": {},
   "source": [
    "Blast searches a very large amount of ('reference') sequence very quickly for matches to the query sequence. In order to do this efficiently the reference sequences must be organised into a database structure. The blast suite of programs will create the database for you using the `makeblastdb` command.\n",
    "\n",
    "As with all the programs you have used you need to call the program with its name, tell it what the input file is, give it any options it needs (e.g. nucleotide, protein), and tell it where to save the output and under what name.\n",
    "\n",
    "The command to make a blast database would look like this:\n",
    "```\n",
    "$ makeblastdb -in data/CFTR/GRCh38_chr7.fas -dbtype nucl -title my_chr7_db -out CFTRch7\n",
    "```\n",
    "Discuss this command until you understand what parts do what. Remember that flags (-flag) are there to flag-up what the next part does. The `-in` flag precedes the input file. \n",
    "\n",
    "**Time to run it for yourself, but in a slightly changed format**\n",
    "\n",
    "First lets prepare some data. Copy, paste, and run the line below (**NB you don't need the dollar sign** the command starts with `gunzip`). This might take a few minutes. When the following cell changes from `In [*]` to a number replacing the asterisk, its done. If you only see a number as normal, its done.\n",
    "```\n",
    "$ gunzip -c data/CFTR/GRCh38_chr7.fas.gz | makeblastdb -in - -dbtype nucl -title my_chr7_db -out CFTRch7\n",
    "```"
   ]
  },
  {
   "cell_type": "code",
   "execution_count": null,
   "metadata": {},
   "outputs": [],
   "source": []
  },
  {
   "cell_type": "markdown",
   "metadata": {},
   "source": [
    "- What does the pipe | do? \n",
    "- What is gunzip? \n",
    "- Where will the output files be saved?"
   ]
  },
  {
   "cell_type": "markdown",
   "metadata": {},
   "source": [
    "## 2.4 BLASTing a sequence file against the database\n",
    "Now is the time to actually blast a sequence against the database to find out where it matches. You are provided with a sequence file containing a segment of the human CFTR gene called `CFTRshort.fas`. Use the following command to search the database. \n",
    "```\n",
    "$ blastn -db CFTRch7 -num_descriptions 50 -query data/CFTR/CFTRshort.fas -out CFTR_chr7_blastn.out\n",
    "```"
   ]
  },
  {
   "cell_type": "code",
   "execution_count": null,
   "metadata": {},
   "outputs": [],
   "source": []
  },
  {
   "cell_type": "markdown",
   "metadata": {},
   "source": [
    "If you have run the command without errors then you have completed to bioinformatics part of your analysis. There are just a few more things to do. For a start you will want to look at and interpret your results. You already know how to examine large text files, why not have a look at the `CFTR_chr7_blastn.out` file. It is actually quite small, but even if you had returned thousands of results you now have the skills to view and search them. Discuss the content with a demonstrator or myself."
   ]
  },
  {
   "cell_type": "markdown",
   "metadata": {},
   "source": [
    "You have detected a specific mutant genotype called \"cftr delta-f508\"\n",
    "A useful place to look at human mutants is OMIM Online Mendelian Inheritance in Man. Try a search for \"cftr delta-f508\"\n",
    "\n",
    "https://www.omim.org/about\n",
    "\n",
    "If you are interested you can see the specific sequence you have just investigated in a genome browser\n",
    "\n",
    "https://www.ncbi.nlm.nih.gov/variation/view/?chr=7&from=117559592&to=117559594&mk=117559592%3A117559594%7CNC_000007.14&assm=GCF_000001405.26\n"
   ]
  },
  {
   "cell_type": "markdown",
   "metadata": {},
   "source": [
    "## Congratulations!\n",
    "You have navigated the unix command line, searching and formatting data files, using a range of powerful unix commands, on large amounts of DNA data. You have created and searched a blast database of the human genome to detect a very important single mutation. **You are now a bioinformatician!** "
   ]
  },
  {
   "cell_type": "markdown",
   "metadata": {},
   "source": [
    "## Learning Outcomes\n",
    "At the end of this class you should:\n",
    "- Understand the utility of the command line\n",
    "- Navigate files and directories from the command line\n",
    "- Perform `grep` searches on very large files\n",
    "- Be able to perform a BLAST search from the command line and gain biological insight\n",
    "\n",
    "Bioinformatics is a big discipline, and of course a lot of different skills are needed. You have however covered a wide range of skills for one day, and these basics will already be very useful indeed if you were beginning a DNA analysis project. "
   ]
  },
  {
   "cell_type": "markdown",
   "metadata": {},
   "source": [
    "----\n",
    "\n",
    "# THIS IS REALLY IMPORTANT DON'T SKIP THIS SECTION\n",
    "## At the end of the practical save and upload your practical notebook\n",
    "Check your name and student ID are in a cell at the top of this page. \n",
    "\n",
    "Use the notebok file menu (not the browser menu) `File/Download As/.pdf`\n",
    "\n",
    "Save this PDF somewhere safe. You should rename it informatively. Now upload it to the Canvas assignment for \"Practical 2- bioinformatics\"\n",
    "\n",
    "YOU ARE NOW COMPLETELY FINISHED, WELL DONE"
   ]
  },
  {
   "cell_type": "markdown",
   "metadata": {},
   "source": [
    "----\n",
    "\n",
    "# Appendix 1 the fasta file format\n",
    "Fasta (pronounced “fast- ay” to rhyme with May) is a concise standard text file format used for sequence data. A fasta file may contain one or many separate sequence records, each in fasta format. You will need to use this format several times during today’s session. Both DNA and amino acid sequences can be formatted this way. Essentially it is a greater than symbol “>” followed by any title you want to give it, then, starting on the next line, the sequence.\n",
    "\n",
    "### Here is the description of FASTA from GenBank.\n",
    "“A sequence in FASTA format begins with a single-line description, followed by lines of sequence data. The description line is distinguished from the sequence data by a greater-than (\">\") symbol in the first column”\n",
    "\n",
    "Example sequences in FASTA format are: \n",
    "```\n",
    ">AAH22472.1 Malic enzyme 3, NADP(+)-dependent, mitochondrial [Homo sapiens]\n",
    "MGAALGTGTRLAPWPGRACGALPRWTPTAPAQGCHSKPGPARPVPLKKRGYDVTRNPHLNKGMAFTLEER\n",
    "LQLGIHGLIPPCFLGQDVQLLRIMGYYERQQSDLDKYIILMTLQDRNEKLFYRVLTSDVEKFMPIVYTPT\n",
    "VGLACQHYGLTFRRPRGLFITIHDKGHLATMLNSWPEDNIKAVVVTDGERILGLGDLGCYGMGIPVGKLA\n",
    "LYTACGGVNPQQCLPVLLDVGTNNEELLRDPLYIGLKHQRVHGKAYDDLLDEFMQAVTDKFGINCLIQFE\n",
    "\n",
    ">My sequence of elephant skin-wrinkle gene\n",
    "CCGGGCTCTGCCTCGATGCAAACGTTATGCATATATGTATTATCACCATTATTTTATATCAAACATATCC\n",
    "TATATATTAATACATCTCATTTAACAGAAATATAGGTAGATATACCACATATTTGTCAACAACATTTTAA\n",
    "CTAAGGGGTACATAAACCATAACTAAGTACTCTCCAATAAATATTTATTAATTACTGAACGATAGTTTAA\n",
    "GACCGATCACAACTCTCACTGGTTAAGATATACCAAGTACCCACCATCCTATTTACCTCCCTTATTTAAT\n",
    "GTAGTAAGAGCCCACCATCAGTTGATTTCTTAATGTTAACGGTTCTTGAAGGTCAAGGACAAATATTCGT\n",
    "GGGGGTTTCACTTAGTGAACTATTCCTGGCATCTGGTTCCTATTTCAGGTCCAATAATTGTTATAATTCC\n",
    "CCATACTTTCATCGACGCTTGCATAAGTTAATGGTGGTAATACATACTCCTCGTTACCCACCATGCCGGG\n",
    "CGTTCTTTCCAGCGTGTGGGGGGTTCTCTTTTTTTTTNNCCTTTCA\n",
    "```\n",
    "### Fasta format records and fasta files\n",
    "Above are two fasta records. A fasta record contains only a single header with a single sequence. It is one thing. The record is in fasta format because it is a greater than symbol, then a header, then the sequence.\n",
    "\n",
    "A fasta file is a text file. It usually has the extension .fas or .fsa or .fna or .fasta. Each text file may contain one or more than one fasta record. It is not uncommon to have tens of thousands of fasta records in a single text file. For it to count as a fasta file all the records must be in valid fasta format."
   ]
  },
  {
   "cell_type": "markdown",
   "metadata": {},
   "source": [
    "## Appendix 2 some extra things to try\n",
    "\n",
    "### `head` and `tail`\n",
    "These commands show the first few or the last few lines of the file. How can you control how many lines are shown?\n",
    "If you wanted to take the last 5 or the first 5 lines of a big text file and save them in a new file, how might you go about it?\n",
    "\n",
    "### `help` and `man`\n",
    "unix has a built-in help system. You can type the name of the program causing confusion and `--help` to get more information on functionality and correct usage. Try\n",
    "\n",
    "`ls -help`\n",
    "\n",
    "There are also manuals to help you. These can be brought up with the `man` command. Try\n",
    "\n",
    "`man ls`\n",
    "\n",
    "### word counting\n",
    "unix has a word count program called `wc`\n",
    "\n",
    "What can you find out about it and how to use it?\n",
    "\n",
    "How many characters are in the CFTRshort.fas DNA sequence file?\n",
    "\n",
    "One problem is that the file contains both a fasta header and the sequence. If you only want the length of the DNA sequence a simple `wc` may not give you the right information. Can you think of any way around this?"
   ]
  },
  {
   "cell_type": "markdown",
   "metadata": {},
   "source": [
    "## Appendix 3\n",
    "### Some reading if you wish to extend your knowledge\n",
    "- UNIX Tutorial for Beginners http://www.ee.surrey.ac.uk/Teaching/Unix/\n",
    "- Command line history tricks http://www.thegeekstuff.com/2008/08/15-examples-to-master-linux-command-line-history/\n",
    "- Software Carpentry Introduction to the unix shell on YouTube (great short videos) \n",
    "- Unix and Perl Primer for Biologists http://korflab.ucdavis.edu/Unix_and_Perl/unix_and_perl_v3.0.pdf\n",
    "- Bradnam and Korf. (2012) UNIX and Perl to the Rescue!: A Field Guide for the Life Sciences (and Other Data-rich Pursuits). ISBN-10: 0521169828  ISBN-13: 978-0521169820 http://www.amazon.co.uk/gp/product/0521169828\n",
    "- GREP http://www.gnu.org/software/grep/manual/grep.html\n",
    "- SED http://www.gnu.org/software/sed/manual/sed.html\n",
    "- Software Carpentry Introduction to programming in Python (great short YouTube videos) \n",
    "- Python for Biologists http://pythonforbiologists.com\n",
    "- Python for non-programmers https://wiki.python.org/moin/BeginnersGuide/NonProgrammers"
   ]
  },
  {
   "cell_type": "code",
   "execution_count": null,
   "metadata": {},
   "outputs": [],
   "source": []
  }
 ],
 "metadata": {
  "kernelspec": {
   "display_name": "Bash",
   "language": "bash",
   "name": "bash"
  },
  "language_info": {
   "codemirror_mode": "shell",
   "file_extension": ".sh",
   "mimetype": "text/x-sh",
   "name": "bash"
  }
 },
 "nbformat": 4,
 "nbformat_minor": 2
}
