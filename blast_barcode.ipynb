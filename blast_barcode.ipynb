{
 "cells": [
  {
   "cell_type": "markdown",
   "metadata": {},
   "source": [
    "### 500697 Genetic Analysis\n",
    "# Using blast database searches\n",
    "\n",
    "### Dr Dave Lunt\n",
    "d.h.lunt@hull.ac.uk\n"
   ]
  },
  {
   "cell_type": "markdown",
   "metadata": {},
   "source": [
    "### In the cell below please double click then type your name and student ID"
   ]
  },
  {
   "cell_type": "markdown",
   "metadata": {},
   "source": [
    "----\n",
    "Student:\n",
    "****"
   ]
  },
  {
   "cell_type": "markdown",
   "metadata": {},
   "source": [
    "\n",
    "Today you are going to work together in groups of 2-3. However **you will each need to complete a notebook** such as this. Discuss, try, evaluate, get help, then complete the exercise in your own notebook. All exercises please, not just the assessments. \n",
    "\n",
    "At the end you will need to use the `File` menu above to `Download As` PDF. You will then upload it to Canvas as your assessment. Please make sure that all your work is entered in this workbook."
   ]
  },
  {
   "cell_type": "markdown",
   "metadata": {},
   "source": [
    "# 0. General Introduction\n",
    "If you did not take the practical class \"Introduction to Bioinformatics last week, please tell a demonstrator and they will make sure you are up to speed.\n",
    "\n",
    "In the previous practical class you were introduced to some basic Bioinformatics, and command line skills. Today we are going to use those skills to answer some biological questions.\n",
    "\n",
    "**DON’T PANIC! YOU DO NOT NEED COMPUTATIONAL SKILLS TO CARRY OUT THIS ASSESSMENT. EVERYTHING YOU NEED TO KNOW YOU CAN LEARN IN THIS CLASS**\n",
    "\n",
    "It is essential however that you **engage with the exercises**, reading them carefully, trying for yourself, and asking questions of your lab partners and the demonstrators.\n",
    "\n",
    "I have put in the files here a copy of a 1 page help sheet of the unix commands you have learned last time, and if you need to look up a command you can do so. "
   ]
  },
  {
   "cell_type": "markdown",
   "metadata": {},
   "source": [
    "**TIP** please insert cells, check your working directory (`pwd`) and list the files present (`ls`) at every opportunity below. It will save you a lot of problems and allow you to see the files you are working with."
   ]
  },
  {
   "cell_type": "markdown",
   "metadata": {},
   "source": [
    "# 1 The CFTR gene, cystic fibrosis, and blast searching"
   ]
  },
  {
   "cell_type": "markdown",
   "metadata": {},
   "source": [
    "If you wish, now would be a good time to familiarise yourself with the CF condition. We will be looking at mutations in the CFTR locus, and the [cystic fibrosis transmembrane conductance regulator wikipedia page](https://en.wikipedia.org/wiki/Cystic_fibrosis_transmembrane_conductance_regulator) is very detailed. Unlike many diseases CF has mutations of large effect, meaning that direct survellance by sequencing and bioinformatic analysis is very informative."
   ]
  },
  {
   "cell_type": "markdown",
   "metadata": {},
   "source": [
    "The gene is found on human chronosome seven, and codes for a protein of 1,480 amino acids. The gene region is 250,167 nucleotides long however, including 26 introns, and therefore PCR of target regions is a common strategy. Whole genome sequencing will eventually/soon replace this approach."
   ]
  },
  {
   "cell_type": "markdown",
   "metadata": {},
   "source": [
    "### Quiz 1: What types of mutation might be deleterious?"
   ]
  },
  {
   "cell_type": "markdown",
   "metadata": {},
   "source": [
    "In groups of about 4 make a list of types of deleterious mutations. What types of DNA mutation could mess up a protein? Try to come up with at least 3."
   ]
  },
  {
   "cell_type": "markdown",
   "metadata": {},
   "source": [
    "# 1.1 BLAST similarity searches\n",
    "In this section we will investigate and use **blast** the most important software tool in biology."
   ]
  },
  {
   "cell_type": "markdown",
   "metadata": {},
   "source": [
    "## What is BLAST and how does it work?\n",
    "\n",
    "### Quiz 2: \n",
    "**In groups of 2-4 spend 5 minutes to research BLAST searches** \n",
    "- How will you do this? \n",
    "- What questions will you ask? \n",
    "\n",
    "**You will prepare yourself to contribute to a group discussions about blast searching.**"
   ]
  },
  {
   "cell_type": "markdown",
   "metadata": {},
   "source": [
    "# 1.2 building a blast database"
   ]
  },
  {
   "cell_type": "markdown",
   "metadata": {},
   "source": [
    "To demonstrate your command line competency, follow the instructions to search a chromosome_7 blast database from the command line with the provided CFTR query sequence. The instructions are below"
   ]
  },
  {
   "cell_type": "markdown",
   "metadata": {},
   "source": [
    "In the `blast_barcode/data/cftr` directory I have provided you with the sequence of human chromosome 7 in the file `GRCh38_chr7.fas.gz`. This is a compressed \"gunzipped\" file format. Since it is not a text file it will not be helpfule to examine it using `head` or similar commands. \n",
    "\n",
    "As you might imagine this chromosome DNA sequence is a large file. **Can you find out how large?** You did this in the last practical with a specific `ls` command."
   ]
  },
  {
   "cell_type": "markdown",
   "metadata": {},
   "source": [
    "Blast searches a very large amount of ('reference') sequence very quickly for matches to the query sequence. In order to do this efficiently the reference sequences must be organised into a database structure. The blast suite of programs will create the database for you using the `makeblastdb` command.\n",
    "\n",
    "As with all the programs you have used you need to call the program with its name, tell it what the input file is, give it any options it needs (e.g. nucleotide, protein), and tell it where to save the output and under what name.\n",
    "\n",
    "The command to make a blast database would look like this:\n",
    "```\n",
    "$ makeblastdb -in data/cftr/GRCh38_chr7.fas -dbtype nucl -title my_chr7_db -out CFTRch7\n",
    "```\n",
    "You can read about what each part of the command does if you wish by searching for blast dsocumentation online. Most of it you can guess howver. Remember that flags (-flag) are there to flag-up what the next part does, eg the `-in` flag precedes the input file. Sometimes they act a modifiers, giving options."
   ]
  },
  {
   "cell_type": "markdown",
   "metadata": {},
   "source": [
    "----\n",
    "# Assessment 1- create a blast database"
   ]
  },
  {
   "cell_type": "markdown",
   "metadata": {},
   "source": [
    "**Time to run it for yourself, but in a slightly changed format**\n",
    "\n",
    "First lets prepare some sequence data into a blast database. Copy, paste, and run the line below. **NB you don't need the dollar sign** the command starts with `gunzip`. This might take a few minutes. When the following cell changes from `In [*]` to a number replacing the asterisk, its done. If you only see a number as normal, its done.\n",
    "```\n",
    "$ gunzip -c data/cftr/GRCh38_chr7.fas.gz | makeblastdb -in - -dbtype nucl -title my_chr7_db -out CFTRch7\n",
    "```"
   ]
  },
  {
   "cell_type": "code",
   "execution_count": null,
   "metadata": {},
   "outputs": [],
   "source": []
  },
  {
   "cell_type": "markdown",
   "metadata": {},
   "source": [
    "If you get an error: Are you where you think you are? Are these files present in exactly the location you said? eg data/cftr/GRCh38_chr7.fas.gz\n",
    "- What is gunzip? \n",
    "- What does the pipe | do? \n",
    "- What is makeblastdb doing?\n",
    "- What files have been created and where were they saved? ie where are you currently working?"
   ]
  },
  {
   "cell_type": "markdown",
   "metadata": {},
   "source": [
    "Discuss your understanding with a demonstrator, or make brief notes here. The notes are not themselves assessed, but just for your understanding."
   ]
  },
  {
   "cell_type": "markdown",
   "metadata": {},
   "source": [
    "# 1.3 searching a blast database"
   ]
  },
  {
   "cell_type": "markdown",
   "metadata": {},
   "source": [
    "Now is the time to actually blast a sequence against the database to find out where it matches. As part of the assessment you will follow instructions and demonstrate an ability to blast search a sequence file against a database"
   ]
  },
  {
   "cell_type": "markdown",
   "metadata": {},
   "source": [
    "----\n",
    "# Assessment 2- search a blast database"
   ]
  },
  {
   "cell_type": "markdown",
   "metadata": {},
   "source": [
    "Dr Smith is a geneticist researching CF mutations and she has provided you with a sequence file containing a segment of the human CFTR gene. This file called `CFTRshort.fas`. \n",
    "\n",
    "**Locate the file and examine it using appropriate commands**"
   ]
  },
  {
   "cell_type": "markdown",
   "metadata": {},
   "source": []
  },
  {
   "cell_type": "markdown",
   "metadata": {},
   "source": [
    "**Dr Smith asks you to characterise any mutations in this patient's CFTR gene sequence and to report back what can be understood from those changes.** You already have prepared (Assessment 1) a blast database of human chromosome 7. You are now going to match this **query** sequence to the database."
   ]
  },
  {
   "cell_type": "markdown",
   "metadata": {},
   "source": [
    "Use the following command to search the database. \n",
    "```\n",
    "$ blastn -db CFTRch7 -num_descriptions 50 -query data/cftr/CFTRshort.fas -out CFTR_chr7_blastn.out\n",
    "```"
   ]
  },
  {
   "cell_type": "code",
   "execution_count": null,
   "metadata": {},
   "outputs": [],
   "source": []
  },
  {
   "cell_type": "markdown",
   "metadata": {},
   "source": [
    "- What, in a general sense, does blastn do?\n",
    "- What are 'descriptions' as referred to in `num_descriptions 50`?\n",
    "- What files are being created and where?"
   ]
  },
  {
   "cell_type": "markdown",
   "metadata": {},
   "source": [
    "Discuss your understanding with a demonstrator, or make brief notes here. The notes are not themselves assessed, but just for your understanding. If you have run the command without errors then you have completed the initial assessment."
   ]
  },
  {
   "cell_type": "markdown",
   "metadata": {},
   "source": [
    "----\n"
   ]
  },
  {
   "cell_type": "markdown",
   "metadata": {},
   "source": [
    "## 1.4 examining the output"
   ]
  },
  {
   "cell_type": "markdown",
   "metadata": {},
   "source": [
    "You will want to look at and interpret your results. You already know how to examine large text files, why not have a look at the `CFTR_chr7_blastn.out` file. It is actually quite small, but even if you had returned thousands of results you now have the skills to view and search them. \n",
    "\n",
    "What types of information does it contain? Discuss the content with a demonstrator or myself."
   ]
  },
  {
   "cell_type": "markdown",
   "metadata": {},
   "source": [
    "You have detected a specific mutant genotype called \"cftr delta-f508\". Can you dscribe what this is and relate it to your outpt?\n",
    "\n",
    "A useful place to look at human mutants is OMIM Online Mendelian Inheritance in Man. Try a search for \"cftr delta-f508\"\n",
    "\n",
    "https://www.omim.org/about\n",
    "\n",
    "If you are interested you can see the specific sequence you have just investigated in a genome browser\n",
    "\n",
    "https://www.ncbi.nlm.nih.gov/variation/view/?chr=7&from=117559592&to=117559594&mk=117559592%3A117559594%7CNC_000007.14&assm=GCF_000001405.26\n"
   ]
  },
  {
   "cell_type": "markdown",
   "metadata": {},
   "source": [
    "## skill achieved: building and searching a blast database from the command line"
   ]
  },
  {
   "cell_type": "markdown",
   "metadata": {},
   "source": [
    "blast searches are incredibly common in biological sequence data analysis. Being able to create and search blast database at the command line is a very powerful (and marketable) skill. Of course your understanding, and skills on other types of search, are just beginnning but please do not underestimate the utility of the skills you will have learned by the end of today. Well done."
   ]
  },
  {
   "cell_type": "markdown",
   "metadata": {},
   "source": [
    "# STOP HERE PLEASE <-- <-- <--"
   ]
  },
  {
   "cell_type": "markdown",
   "metadata": {},
   "source": [
    "****\n",
    "# Section 2- Question: what am I eating?\n",
    "****"
   ]
  },
  {
   "cell_type": "markdown",
   "metadata": {},
   "source": [
    "University of Hull student investigators have sampled and sequenced fish products. These are fish from fish and chip shops, fishfingers and fillets from supermarkets. The goal is to find out if we are being sold what we think we have bought, cod, haddock, plaice, as it was described. \n",
    "\n",
    "After amplifying the barcode locus COI PCR products were sent for dideoxy (Sanger) sequencing. As part of your lab work in this module you have contributed sequences to this ongoing investigation. This data now needs analysing. It is up to you today to do this."
   ]
  },
  {
   "cell_type": "markdown",
   "metadata": {},
   "source": [
    "## Your data"
   ]
  },
  {
   "cell_type": "markdown",
   "metadata": {},
   "source": [
    "We have the sequences from the fish Sanger sequencing. These come in 3 different file formats ab1, text/fasta, and pdf.\n",
    "* `.pdf` is just for looking at, but does not provide information about the sequence and quality that can be accessed computationally. In the /figs folder are some pdfs of sequence data. These pdfs are not easy to look at on the jupyterhub server, try to download one, or clook at an example on Canvas\n",
    "* `.fasta` is the SEQUENCE format you are already familiar with, sometimes these files have a `.txt` extension\n",
    "* `.ab1` is a format that includes quality information"
   ]
  },
  {
   "cell_type": "markdown",
   "metadata": {},
   "source": [
    "### Discussion on sequence quality\n",
    "**pause here for a discusion** Look at the /Sanger folder if you wish and the pdf files here or in the /figs folder."
   ]
  },
  {
   "cell_type": "markdown",
   "metadata": {},
   "source": [
    "- You now have sequence data ready to analyse. Do you know what question you wish to ask about each sequence? Can you explain it in a sentence to your lab partner?\n",
    "- Try to be specific and methodological. Rather than hoping to ‘find the correct answer to the practical work’ explain characteristics of the sequence you wish to find.\n",
    "- Write your sentence down, discuss it with a demonstrator.\n",
    "- Think about relationships denoted by sequence data.\n",
    "- Think how you might carry out that analysis, and make a written bullet list in the 'plan' text box below:"
   ]
  },
  {
   "cell_type": "markdown",
   "metadata": {},
   "source": [
    "## Analysis Plan\n"
   ]
  },
  {
   "cell_type": "markdown",
   "metadata": {},
   "source": [
    "- Identify all the sequence data available to you\n",
    "- Make sure it is correctly labelled as .fas files\n",
    "- Concatenate the sequences into single files\n",
    "- Count the records\n",
    "- Check that you have metadata (source) for each\n",
    "- Build a blast database of fish COI reference sequences\n",
    "- Blast your fasta sequences against the database\n",
    "- Compare the species of the best blast hit to the metadata to see if species was reported correctly"
   ]
  },
  {
   "cell_type": "markdown",
   "metadata": {},
   "source": [
    "## 2.1 Identify and prepare the data"
   ]
  },
  {
   "cell_type": "markdown",
   "metadata": {},
   "source": [
    "Make sure that you understand where the data is held and what files are present. Browse through the data directory and subdirectories to discover this for yourself.\n",
    "\n",
    "You will find that there are 3 directories within `data/fish_barcodes` that containing sequences (2018, 58988, dublin), and also a `misc_info` directory and a couple of other files `987gadoids.fas` and `fish_phylo.fas` that you may use later on (but ignore for now)."
   ]
  },
  {
   "cell_type": "markdown",
   "metadata": {},
   "source": [
    "The problem is that the data is \"messy\": \n",
    "- The fasta files in 58988 and dublin are called .txt not .fas \n",
    "- the 2018 directory has .fas but also some other file types mixed in with it. \n",
    "\n",
    "This data needs to be 'cleaned' and organised. Data cleaning is always a key job for bioinformaticicans and data scientists."
   ]
  },
  {
   "cell_type": "markdown",
   "metadata": {},
   "source": [
    "## 2.2 Changing the filenames from .txt to .fas"
   ]
  },
  {
   "cell_type": "markdown",
   "metadata": {},
   "source": [
    "We need to change the filenames of all the .txt files to be .fas. It is best practice to make sure we can trace exactly what is in each file (ie fasta formatted sequence data), and make sure that various programs later on also know. It would be very annoying to do this manually and if we had a normal amount of sequences (tens of thousands) it would be impossible."
   ]
  },
  {
   "cell_type": "markdown",
   "metadata": {},
   "source": [
    "Lets write a computer program together in **pseudocode**. This is really just making a very detailed list of the actions you need to do before you start writing it. Programmers in R, python, C++, whatever language all start like this with pseudocode. Here is an example:\n",
    "```\n",
    "For each file in this directory ending with .txt\n",
    "    Take the 1st part of the old filename (the bit before .txt)\n",
    "    Set that text as the new filename with .fas added to the end\n",
    "finish\n",
    "```"
   ]
  },
  {
   "cell_type": "markdown",
   "metadata": {},
   "source": [
    "#### The `mv` command will rename the files (but don't do it yet)\n",
    "In the command line we \"move\" file names with the '`mv`' command. Most unix command names are pretty obvious but move feels unintuitive to a lot of people. There is a certain logic, but just remember that it renames files.\n",
    "\n",
    "Like all the programs so far we launch the programe (`mv`) and tell it what the input (old file name) and output (new file name) are. Some bits of this code are hard, but can you link any of the 4 lines below to any of the pseudocode above? This is written as a bash script. Don't worry about understanding the syntax, you are not meant to, but can you guess what each bit does just by comparing to the pseudocode? Discuss."
   ]
  },
  {
   "cell_type": "code",
   "execution_count": 12,
   "metadata": {},
   "outputs": [],
   "source": [
    "for file in *.txt\n",
    "do\n",
    "  mv \"$file\" \"${file%.txt}.fas\"\n",
    "done"
   ]
  },
  {
   "cell_type": "markdown",
   "metadata": {},
   "source": [
    "# Assessment 3- batch renaming"
   ]
  },
  {
   "cell_type": "markdown",
   "metadata": {},
   "source": [
    "The files in the directory dublin are .txt files, but if you examine them they are really .fas DNA sequence files. Check for yourself. You should fix these file extensions. Make sure that you are working in same directory as the files you wish to rename. Are those files present and named in the way you expected? Check. "
   ]
  },
  {
   "cell_type": "code",
   "execution_count": null,
   "metadata": {},
   "outputs": [],
   "source": []
  },
  {
   "cell_type": "markdown",
   "metadata": {},
   "source": [
    "## Assessment 3A Do not modify raw data, make a copy"
   ]
  },
  {
   "cell_type": "markdown",
   "metadata": {},
   "source": [
    "It is a bad idea to filter, change, transform or rename raw data. If something goes wrong you may have overwritten all your data. Make a copy instead and work with that."
   ]
  },
  {
   "cell_type": "markdown",
   "metadata": {},
   "source": [
    "Make sure that you are in the dublin directory. The command to make a new directory is `mkdir`. Make a new directory for your fasta files with `mkdir fasta`. Do this and show me it it exists."
   ]
  },
  {
   "cell_type": "code",
   "execution_count": null,
   "metadata": {},
   "outputs": [],
   "source": []
  },
  {
   "cell_type": "code",
   "execution_count": null,
   "metadata": {},
   "outputs": [],
   "source": []
  },
  {
   "cell_type": "markdown",
   "metadata": {},
   "source": [
    "Copy `cp` the .txt files from dublin directory to the fasta subdirectory. If you need to Google the syntax that is OK but you have done `cp` before and it will be the same as usual `program input output`. Show me the files exist."
   ]
  },
  {
   "cell_type": "code",
   "execution_count": null,
   "metadata": {},
   "outputs": [],
   "source": []
  },
  {
   "cell_type": "markdown",
   "metadata": {},
   "source": [
    "## Assessment 3B Rename .txt to .fas"
   ]
  },
  {
   "cell_type": "markdown",
   "metadata": {},
   "source": [
    "Now copy the code from above (for ... done) and run those lines in the code cell below to batch rename the files. Are you renaming the files in the `fasta` directory?"
   ]
  },
  {
   "cell_type": "code",
   "execution_count": null,
   "metadata": {},
   "outputs": [],
   "source": []
  },
  {
   "cell_type": "markdown",
   "metadata": {},
   "source": [
    "Has it worked? Show me"
   ]
  },
  {
   "cell_type": "code",
   "execution_count": null,
   "metadata": {},
   "outputs": [],
   "source": []
  },
  {
   "cell_type": "markdown",
   "metadata": {},
   "source": [
    "### the Assessment ends here, but please carry on with the analysis"
   ]
  },
  {
   "cell_type": "markdown",
   "metadata": {},
   "source": [
    "----\n"
   ]
  },
  {
   "cell_type": "markdown",
   "metadata": {},
   "source": [
    "### Skill achieved: batch renaming files from the unix command line"
   ]
  },
  {
   "cell_type": "markdown",
   "metadata": {},
   "source": [
    "Imagine (you don't have to do this) that you wanted to change those new .fas file extensions to .html, can you see what parts of the script you would have to change?"
   ]
  },
  {
   "cell_type": "markdown",
   "metadata": {},
   "source": [
    "## 2.3 Collect the 2018 fasta files"
   ]
  },
  {
   "cell_type": "markdown",
   "metadata": {},
   "source": [
    "Examine the files in the 2018 directory. They are a mixture of .ab1, .pdf, and .fas files. \n",
    "\n",
    "Make 2 new directories called ab1 and pdf, then copy all the files with those extensions to the subdirectories leaving only .fas"
   ]
  },
  {
   "cell_type": "code",
   "execution_count": null,
   "metadata": {},
   "outputs": [],
   "source": []
  },
  {
   "cell_type": "markdown",
   "metadata": {},
   "source": [
    "## 2.4 Concatenate all the new fasta files into a single file\n",
    "Use your command line skills from last session to create a single fasta file from all those now present in the folder. **Tip: give the output file the extension `.fasta` so that it doesn't have problems trying to be added to itself.**"
   ]
  },
  {
   "cell_type": "code",
   "execution_count": 15,
   "metadata": {},
   "outputs": [],
   "source": []
  },
  {
   "cell_type": "markdown",
   "metadata": {},
   "source": [
    "### Now concatenate all the dublin, 58988 and 2018 fasta files to create a master file"
   ]
  },
  {
   "cell_type": "markdown",
   "metadata": {},
   "source": [
    "You now have `dublin_concat.fasta` (or similar filename), make a new file containing all the fasta files from dublin, 58988 and 2018."
   ]
  },
  {
   "cell_type": "code",
   "execution_count": null,
   "metadata": {},
   "outputs": [],
   "source": []
  },
  {
   "cell_type": "code",
   "execution_count": null,
   "metadata": {},
   "outputs": [],
   "source": []
  },
  {
   "cell_type": "markdown",
   "metadata": {},
   "source": [
    "This is your final data file to be analysed. Examine it to check it is still fasta format. How many sequence records are present?"
   ]
  },
  {
   "cell_type": "code",
   "execution_count": null,
   "metadata": {},
   "outputs": [],
   "source": []
  },
  {
   "cell_type": "markdown",
   "metadata": {},
   "source": [
    "### Identify the metadata for these records"
   ]
  },
  {
   "cell_type": "markdown",
   "metadata": {},
   "source": [
    "The file `sample_info.csv` contains information about the source of each sample, and what species it was supposed to be. Examine it."
   ]
  },
  {
   "cell_type": "code",
   "execution_count": null,
   "metadata": {},
   "outputs": [],
   "source": []
  },
  {
   "cell_type": "markdown",
   "metadata": {},
   "source": [
    "## 2.5 blast searching to identify species"
   ]
  },
  {
   "cell_type": "markdown",
   "metadata": {},
   "source": [
    "You have seen blast in action already. Lets use it to find the best match (called a best-hit) in a database for each of the student fish fasta sequences that you have just processed."
   ]
  },
  {
   "cell_type": "markdown",
   "metadata": {},
   "source": [
    "## 2.5.1 Build a blast database"
   ]
  },
  {
   "cell_type": "markdown",
   "metadata": {},
   "source": [
    "You have been supplied with a fasta file containing a number of gadoid (Google it) sequences. It is called 987gadoids.fasta \n",
    "\n",
    "Is it in *bona fide* fasta format or have I messed up? How many sequences are present? Check for yourself as above."
   ]
  },
  {
   "cell_type": "code",
   "execution_count": null,
   "metadata": {},
   "outputs": [],
   "source": []
  },
  {
   "cell_type": "markdown",
   "metadata": {},
   "source": [
    "This isn't a massive set of sequences that we have gzip compressed. So we can use a straightforward blast command rather than the gunzip version. The command is very similar to the one you used above. I have named it fishseq instead of CFTRchr7 because that is more descriptive. \n",
    "\n",
    "Build a blast database with the command below, but **remember that you will have to check and change the input file name and location** to match your gadoid fasta sequence file name (specified below) and where it is relative to where you are working. We are building the database from a file called **987gadoids.fas** which contains a lot of fish COI sequences. If it says the file does not exist, but it does, then you have not specified the right file path **relative to where you are currently working**. Most errors at the point are because you are not in the right directory or have not specified the correct file path."
   ]
  },
  {
   "cell_type": "code",
   "execution_count": null,
   "metadata": {},
   "outputs": [],
   "source": [
    "makeblastdb -in ~/blast_barcode/data/987gadoids.fas -dbtype nucl -title gadoid_db -out fishseq"
   ]
  },
  {
   "cell_type": "markdown",
   "metadata": {},
   "source": [
    "## 2.5.2 Search your blast database with the first query sequence"
   ]
  },
  {
   "cell_type": "markdown",
   "metadata": {},
   "source": [
    "Take the first fasta file in the dublin directory, **3-fish_F2.fas**, and blast it against your database of gadoid fish sequences"
   ]
  },
  {
   "cell_type": "code",
   "execution_count": null,
   "metadata": {},
   "outputs": [],
   "source": [
    "blastn -db fishseq -num_descriptions 10 -query ~/blast_barcode/data/fish_barcodes/dublin/3-fish_F2.fas -out 3FishF2_blastn.out"
   ]
  },
  {
   "cell_type": "markdown",
   "metadata": {},
   "source": [
    "It is important here to specify the whole path as our location and the data are in different directories, which leads to errors.\n",
    "\n",
    "- How can you examine the output file 3FishF2_blastn.out?\n",
    "- What species do you think it is and why?\n",
    "- can you investigate the parts of the blast report. In groups discuss it, Google it, then check with a demonstrator"
   ]
  },
  {
   "cell_type": "markdown",
   "metadata": {},
   "source": [
    "#### This is going to be a slow process. \n",
    "There are a lot of sequences to process. It would not be possible if you had a lot of sequences to do it this way. "
   ]
  },
  {
   "cell_type": "markdown",
   "metadata": {},
   "source": [
    "Fortunately this is such a common task in bioinformatics that it has been partly arranged for you in the blast software. If you give blast a fasta file containing multiple sequences it will search each sequence against the same database. Even more fortunately you have already created a master fish fasta file containing all the unknown student sequences."
   ]
  },
  {
   "cell_type": "markdown",
   "metadata": {},
   "source": [
    "# Assessment 4- searching the database and interpreting output"
   ]
  },
  {
   "cell_type": "markdown",
   "metadata": {},
   "source": [
    "Now search your new blast database from section 2.5.1 with your multiple fasta file that you created above in section 2.4. This is the one from all the Sanger .txt files that you renamed .fas and then concatenated into a new master-fasta file. Please ask if unsure"
   ]
  },
  {
   "cell_type": "code",
   "execution_count": null,
   "metadata": {},
   "outputs": [],
   "source": [
    "blastn -db fishseq -outfmt '6 qseqid stitle pident evalue' -max_target_seqs 1 -query ~/blast_barcode/data/fish_barcodes/master-fasta-name.fas -out fishseq_blastn.out"
   ]
  },
  {
   "cell_type": "markdown",
   "metadata": {},
   "source": [
    "Investigate your output file again, `head` is a good option this time. The output is much simpler, and should give a clear \"answer\". Discuss in groups what question this is the answer to. Ask a demonstrator or myself for feedback. Briefly summarise in 1-3 sentences below"
   ]
  },
  {
   "cell_type": "markdown",
   "metadata": {},
   "source": [
    "****\n",
    "Summarise what information you think the output file is presenting here:\n",
    "****"
   ]
  },
  {
   "cell_type": "markdown",
   "metadata": {},
   "source": [
    "## skill acheived- species identification for large sequence collection using blast"
   ]
  },
  {
   "cell_type": "markdown",
   "metadata": {},
   "source": [
    "# Section 3- Phylogenetic analysis of barcode data"
   ]
  },
  {
   "cell_type": "markdown",
   "metadata": {},
   "source": [
    "\"What is this DNA sequence most closely related to\" is really a phylogenetic question. We take slightly different approaches like blast because phylogenetics with millions of sequneces phylogentic analysis is not practical. We only have a small number however so we could give it a go. \n",
    "\n",
    "I have put my output tree from this process in the /figs folder. Try the process below, but discuss this tree even if you are unsuccessful. You can complete the assessment even without the website finishing your analysis."
   ]
  },
  {
   "cell_type": "markdown",
   "metadata": {},
   "source": [
    "I have prepared an alignment of the unknown student sequences to a number of fish reference sequences from genbank. This is called fish_phylo.afa. In this environment it is very difficult for me to make tree building and examination a smooth process (as I hope I did in the Evolution practical). We are instead going to try this on the web. Please do this in groups of four."
   ]
  },
  {
   "cell_type": "markdown",
   "metadata": {},
   "source": [
    "Go to the website www.phylogeny.fr"
   ]
  },
  {
   "cell_type": "markdown",
   "metadata": {},
   "source": [
    "- In the second drop down menu at the top left \"Phylogeny Analysis\" choose \"A la Carte\"\n",
    "- uncheck \"Multiple Alignment\" in the first box (your seqs are already aligned\"\n",
    "- deselect \"Alignment curation\" in the second box\n",
    "- Click \"Create Workflow\" at the bottom left\n",
    "- go to the first jupyterhub tab, containing file not the notebook\n",
    "- find the fish_phylo.afa file and click\n",
    "- select \"download from the file menu (or maybe copy-past will work)\n",
    "- return to phylogeny.fr tab and under Input Data select choose file to upload your file (or paste)\n",
    "- scroll to the bottom and click \"Submit\"\n",
    "- Wait about 2-3 minutes for the tree to be displayed"
   ]
  },
  {
   "cell_type": "markdown",
   "metadata": {},
   "source": [
    "Discuss the analysis in groups of 4. Do you know what the latin binomials are? Find out. What can you conclude about the species status of each sample?"
   ]
  },
  {
   "cell_type": "markdown",
   "metadata": {},
   "source": [
    "# phylogenetic interpretation\n",
    "If a sample falls within a group of reference sequences, and those references are all of one species, then we assume the sample belongs to that smae species. If this logic is unclear, briefly discuss with a demonstrator or myself.\n",
    "\n",
    "I have provided a text file for you to see where each sample was bought and what it claimed to be (phylo_sample_info.csv). Are any of the merchants misrepresenting the species of the fish samples? Briefly list your conclusions below"
   ]
  },
  {
   "cell_type": "markdown",
   "metadata": {},
   "source": [
    "CONCLUSIONS:\n",
    "\n",
    "\n"
   ]
  },
  {
   "cell_type": "markdown",
   "metadata": {},
   "source": [
    "----\n",
    "\n",
    "# THIS IS REALLY IMPORTANT DON'T SKIP THIS SECTION\n",
    "## At the end of the practical save and upload your practical notebook\n",
    "Check your name and student ID are in a cell at the top of this page. \n",
    "\n",
    "Use the notebok file menu (or the browser menu) `File/Export Notebook As/.pdf`\n",
    "\n",
    "Save this PDF somewhere safe. You should rename it informatively. Now upload it to the Canvas assignment for \"CWK Bioinformatics Part 2\"\n",
    "\n",
    "**YOU ARE NOW COMPLETELY FINISHED, WELL DONE**"
   ]
  },
  {
   "cell_type": "markdown",
   "metadata": {},
   "source": [
    "----\n",
    "\n",
    "# Appendix 1 the fasta file format\n",
    "Fasta (pronounced “fast- ay” to rhyme with May) is a concise standard text file format used for sequence data. A fasta file may contain one or many separate sequence records, each in fasta format. You will need to use this format several times during today’s session. Both DNA and amino acid sequences can be formatted this way. Essentially it is a greater than symbol “>” followed by any title you want to give it, then, starting on the next line, the sequence.\n",
    "\n",
    "### Here is the description of FASTA from GenBank.\n",
    "“A sequence in FASTA format begins with a single-line description, followed by lines of sequence data. The description line is distinguished from the sequence data by a greater-than (\">\") symbol in the first column”\n",
    "\n",
    "Example sequences in FASTA format are: \n",
    "```\n",
    ">AAH22472.1 Malic enzyme 3, NADP(+)-dependent, mitochondrial [Homo sapiens]\n",
    "MGAALGTGTRLAPWPGRACGALPRWTPTAPAQGCHSKPGPARPVPLKKRGYDVTRNPHLNKGMAFTLEER\n",
    "LQLGIHGLIPPCFLGQDVQLLRIMGYYERQQSDLDKYIILMTLQDRNEKLFYRVLTSDVEKFMPIVYTPT\n",
    "VGLACQHYGLTFRRPRGLFITIHDKGHLATMLNSWPEDNIKAVVVTDGERILGLGDLGCYGMGIPVGKLA\n",
    "LYTACGGVNPQQCLPVLLDVGTNNEELLRDPLYIGLKHQRVHGKAYDDLLDEFMQAVTDKFGINCLIQFE\n",
    "\n",
    ">My sequence of elephant skin-wrinkle gene\n",
    "CCGGGCTCTGCCTCGATGCAAACGTTATGCATATATGTATTATCACCATTATTTTATATCAAACATATCC\n",
    "TATATATTAATACATCTCATTTAACAGAAATATAGGTAGATATACCACATATTTGTCAACAACATTTTAA\n",
    "CTAAGGGGTACATAAACCATAACTAAGTACTCTCCAATAAATATTTATTAATTACTGAACGATAGTTTAA\n",
    "GACCGATCACAACTCTCACTGGTTAAGATATACCAAGTACCCACCATCCTATTTACCTCCCTTATTTAAT\n",
    "GTAGTAAGAGCCCACCATCAGTTGATTTCTTAATGTTAACGGTTCTTGAAGGTCAAGGACAAATATTCGT\n",
    "GGGGGTTTCACTTAGTGAACTATTCCTGGCATCTGGTTCCTATTTCAGGTCCAATAATTGTTATAATTCC\n",
    "CCATACTTTCATCGACGCTTGCATAAGTTAATGGTGGTAATACATACTCCTCGTTACCCACCATGCCGGG\n",
    "CGTTCTTTCCAGCGTGTGGGGGGTTCTCTTTTTTTTTNNCCTTTCA\n",
    "```\n",
    "### Fasta format records and fasta files\n",
    "Above are two fasta records. A fasta record contains only a single header with a single sequence. It is one thing. The record is in fasta format because it is a greater than symbol, then a header, then the sequence.\n",
    "\n",
    "A fasta file is a text file. It usually has the extension .fas or .fsa or .fna or .fasta. Each text file may contain one or more than one fasta record. It is not uncommon to have tens of thousands of fasta records in a single text file. For it to count as a fasta file all the records must be in valid fasta format."
   ]
  },
  {
   "cell_type": "markdown",
   "metadata": {},
   "source": [
    "## Appendix 2\n",
    "### Some reading if you wish to extend your knowledge on the command line\n",
    "- UNIX Tutorial for Beginners http://www.ee.surrey.ac.uk/Teaching/Unix/\n",
    "- Command line history tricks http://www.thegeekstuff.com/2008/08/15-examples-to-master-linux-command-line-history/\n",
    "- Software Carpentry Introduction to the unix shell on YouTube (great short videos) \n",
    "- Unix and Perl Primer for Biologists http://korflab.ucdavis.edu/Unix_and_Perl/unix_and_perl_v3.0.pdf\n",
    "- Bradnam and Korf. (2012) UNIX and Perl to the Rescue!: A Field Guide for the Life Sciences (and Other Data-rich Pursuits). ISBN-10: 0521169828  ISBN-13: 978-0521169820 http://www.amazon.co.uk/gp/product/0521169828\n",
    "- GREP http://www.gnu.org/software/grep/manual/grep.html\n",
    "- SED http://www.gnu.org/software/sed/manual/sed.html\n",
    "- Software Carpentry Introduction to programming in Python (great short YouTube videos) \n",
    "- Python for Biologists http://pythonforbiologists.com\n",
    "- Python for non-programmers https://wiki.python.org/moin/BeginnersGuide/NonProgrammers"
   ]
  },
  {
   "cell_type": "code",
   "execution_count": null,
   "metadata": {},
   "outputs": [],
   "source": []
  }
 ],
 "metadata": {
  "kernelspec": {
   "display_name": "Python 3",
   "language": "python",
   "name": "python3"
  },
  "language_info": {
   "codemirror_mode": {
    "name": "ipython",
    "version": 3
   },
   "file_extension": ".py",
   "mimetype": "text/x-python",
   "name": "python",
   "nbconvert_exporter": "python",
   "pygments_lexer": "ipython3",
   "version": "3.7.1"
  }
 },
 "nbformat": 4,
 "nbformat_minor": 2
}
